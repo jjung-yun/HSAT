{
 "cells": [
  {
   "cell_type": "code",
   "execution_count": null,
   "metadata": {},
   "outputs": [],
   "source": [
    "# print 출력 방법\n",
    "print('\\\\') # \\\n",
    "print('\\\\\\\\\\\\') # \\\\\\\\\\\n",
    "print(\"1\\\"1\") # 1\"1 \n",
    "print(1, 2, sep='-', end='\\nend') #sep: 구분기호, end: 끝. \n",
    "#출력:1-2 enter 후 end \n",
    "\n",
    "# format 출력방법\n",
    "a,b=1,2\n",
    "c=\"{0}+{1}={2}입니다.\".format(a,b,a+b) #{ } 안 0,1,2순이면 숫자 안써도 됨.\n",
    "\n",
    "for i in range(1,10):\n",
    "    print(\"{0}의 제곱은? {1}\".format(i,i*i)) # format함수 for에도 사용\n",
    "\n",
    "# 코딩테스트 여러번 인풋 받아 한 번에 출력할 때 사용하는 방법. : unpacking, 리스트 컴플리헨젼\n",
    "T = int(input())\n",
    "results = [''.join(char * int(R) for char in S) for _ in range(T) for R, S in [input().split()]]\n",
    "print('\\n'.join(results))\n"
   ]
  },
  {
   "cell_type": "code",
   "execution_count": 6,
   "metadata": {},
   "outputs": [
    {
     "name": "stdout",
     "output_type": "stream",
     "text": [
      "1-2\n",
      "end"
     ]
    }
   ],
   "source": [
    "print(1, 2, sep='-', end='\\nend') #sep: 구분기호, end: 끝"
   ]
  },
  {
   "cell_type": "markdown",
   "metadata": {},
   "source": [
    "### 내장 함수 정리"
   ]
  },
  {
   "cell_type": "code",
   "execution_count": null,
   "metadata": {},
   "outputs": [],
   "source": [
    "# 공백제거 / 구분기호\n",
    "a, b = input().strip().split(' ') #.strip() 메서드는 문자열 앞뒤의 공백을 제거 : \"  Hello World  \" ⇒ \"Hello World\" 로 바꿔줌\n",
    "\n",
    "# len() 함수. iterable (list, tuple, dictionary) 의 길이 반환\n",
    "my_list = [1, 2, 3]\n",
    "len(my_list) #3\n",
    "\n",
    "# del(). 하나든 여러개든 지움.\n",
    "my_dict = {\"a\": \"apple\", \"b\": \"banana\", \"c\": \"cherry\"}\n",
    "del my_dict['a']\n",
    "print(my_dict) # {'b': 2, 'c': 3} # 'a'를 key로 갖는 첫번째 데이터가 지워졌다.\n",
    "\n",
    "# sum() 함수. iterable이 들어가야 함. sum(1,2) 은 불가능.\n",
    "sum([1, 2, 3], 5)  # 11\n",
    "\n",
    "# min(), max(), abs() 함수. \n",
    "max([-1, 2, 3, -5], key = abs) # -5. key를 abs로 넣어 절대값이 가장 큼\n",
    "\n",
    "# divmod() 함수.  몫(//)과 나머지(%)를 한번에 구해줌\n",
    "divmod(pow(2, 5), 19)  # (1, 13)\n",
    "\n",
    "# eval() 함수. 문자열에서 연산 수행\n",
    "eval('1 + 2') # 3\n",
    "a,b = 1,2\n",
    "eval('a + b')  # 3\n",
    "\n",
    "# enumerate() 함수. for에서 값뿐 아니라, 인덱스 번호도 같이 가져옴.\n",
    "for i, x in enumerate(my_list): #시작인덱스 바꿀 수 있음 참고\n",
    "\tprint('{} 번째 값 : {}'.format(i+1, x)) # 1 번째 값 : 1 2 번째 값 : 2 3 번째 값 : 3\n",
    "\t\n",
    "# sorted() 함수. list.sort() 랑 비슷\n",
    "sorted((1,5,3,-5)) # [-5, 1, 3, 5]\n",
    "sorted((1,5,3,-5), reverse = True)  # [5, 3, 1, -5]\n",
    "sorted((1,5,3,-5), key = lambda x : 1/x)\t# [-5, 5, 3, 1]  #key에 key=abs쓰면 절대값 기준\n",
    "\n",
    "# zip() 함수. 여러개의 iterator에서 값을 튜플해줌\n",
    "for x in zip([1, 2, 3], [4, 5, 6]):\n",
    "\tprint(x) \n",
    "\t\n",
    "# join 함수. 리스트 문자값들을 하나의 문자로\n",
    "a=['a','b','c']\n",
    "print(' '.join(a))  #a b c  \n",
    "# '\\n' 으로 구분기호 설정도 가능"
   ]
  },
  {
   "cell_type": "code",
   "execution_count": 8,
   "metadata": {},
   "outputs": [
    {
     "name": "stdout",
     "output_type": "stream",
     "text": [
      "a b c\n"
     ]
    }
   ],
   "source": [
    "a=['a','b','c']\n",
    "print(' '.join(a))  #a b c  # ’\\n’ 으로 구분도 가능"
   ]
  }
 ],
 "metadata": {
  "kernelspec": {
   "display_name": "Python 3",
   "language": "python",
   "name": "python3"
  },
  "language_info": {
   "codemirror_mode": {
    "name": "ipython",
    "version": 3
   },
   "file_extension": ".py",
   "mimetype": "text/x-python",
   "name": "python",
   "nbconvert_exporter": "python",
   "pygments_lexer": "ipython3",
   "version": "3.8.3"
  }
 },
 "nbformat": 4,
 "nbformat_minor": 2
}
