{
 "cells": [
  {
   "cell_type": "markdown",
   "metadata": {},
   "source": [
    "### 자료구조 간단한 사용법 (리스트, 튜플, 딕셔너리, 셋)"
   ]
  },
  {
   "cell_type": "markdown",
   "metadata": {},
   "source": [
    "### 리스트 생성, 메서드, 사용"
   ]
  },
  {
   "cell_type": "code",
   "execution_count": null,
   "metadata": {},
   "outputs": [],
   "source": [
    "print(dir([1,2]))\n",
    "\n",
    "# 리스트 생성 및 기본\n",
    "list1 = [1, 2, 3]\n",
    "list2 = [4, 5, 6]\n",
    "\n",
    "print(list1 + list2) # 출력: [1, 2, 3, 4, 5, 6]\n",
    "print(list1 * 3)     # 출력: [1, 2 ,3 ,1 ,2 ,3 ,1 ,2 ,3]\n",
    "print(2 in list1)    # 출력: True"
   ]
  },
  {
   "cell_type": "code",
   "execution_count": null,
   "metadata": {},
   "outputs": [],
   "source": [
    "# 리스트 메서드\n",
    "list1 = [1, 2, 3]\n",
    "list2 = [4, 5, 6]\n",
    "\n",
    "# 리스트 역순출력\n",
    "for i in reversed([1,2,3]):\n",
    "    print(i)\n",
    "\n",
    "# 특정 값 개수 세기\n",
    "list1.count(2)\n",
    "\n",
    "# 특정 값 제거 하기\n",
    "list1.remove(3)  # [1, 2]\n",
    "removed_value = list1.pop # 맨 뒤 값 삭제 후 반환\n",
    "print(removed_value)      # 2\n",
    "removed_value = list1.pop(0) #특정 인덱스 삭제 후 반환"
   ]
  },
  {
   "cell_type": "code",
   "execution_count": null,
   "metadata": {},
   "outputs": [],
   "source": [
    "# 리스트 unpacking : for안쓰고 바로바로 출력가능함.\n",
    "list2 = [4, 5, 6]\n",
    "print(*list2) # 4 5 6 이 알아서 구분돼서 나옴.\n",
    "print(*list2, sep='\\n') # 구분기호 가능 "
   ]
  },
  {
   "cell_type": "markdown",
   "metadata": {},
   "source": [
    "### 리스트 컴프리헨젼"
   ]
  },
  {
   "cell_type": "code",
   "execution_count": 1,
   "metadata": {},
   "outputs": [
    {
     "name": "stdout",
     "output_type": "stream",
     "text": [
      "1 1 1 1 1 1 1 1 1 1\n",
      "0 1 4\n",
      "0 1 4\n",
      "0 1 4\n",
      "0 0 0 0 0 0\n",
      "0 0 0 0 0 0\n",
      "0 0 0 0 0 0\n"
     ]
    }
   ],
   "source": [
    "# 1차원 리스트 생성 \n",
    "_list = [i for i in range(10)] # 0 1 2 3 4 5 6 7 8 9\n",
    "_list = [1 for _ in range(10)] # 1 1 1 1 1 1 1 1 1 1\n",
    "print(*_list)\n",
    "\n",
    "# 2차원 배열\n",
    "square = [[x ** 2 for x in range(3)] for _ in range(3)] # [[1, 4, 9], [1, 4, 9], [1, 4, 9]]\n",
    "for lst in square:\n",
    "    print(*lst)       #2차원 리스트 unpacking으로 바로 출력하는 법\n",
    "\n",
    "arr=[[0]*6 for _ in range(3)] # 행3개 열 6개\n",
    "for lst in arr:\n",
    "    print(*lst)\n"
   ]
  },
  {
   "cell_type": "markdown",
   "metadata": {},
   "source": [
    "### 튜플"
   ]
  },
  {
   "cell_type": "code",
   "execution_count": null,
   "metadata": {},
   "outputs": [],
   "source": [
    "#튜플\n",
    "print(dir((1,2)))\n",
    "t1 = (1, 2, 3)\n",
    "t2 = (4, 5, 6)\n",
    "\n",
    "print(t1 + t2)    # 출력: (1, 2, 3, 4, 5, 6)\n",
    "print(t1 * 3)     # 출력: (1, 2 ,3 ,1 ,2 ,3 ,1 ,2 ,3)\n",
    "print(2 in t1)    # 출력: True\n",
    "print(t1[1])      # 출력: 2"
   ]
  },
  {
   "cell_type": "code",
   "execution_count": null,
   "metadata": {},
   "outputs": [],
   "source": [
    "t1 = (1, 2, 3)\n",
    "t2 = (4, 5, 6)"
   ]
  },
  {
   "cell_type": "markdown",
   "metadata": {},
   "source": [
    "### 집합, Set"
   ]
  },
  {
   "cell_type": "code",
   "execution_count": null,
   "metadata": {},
   "outputs": [],
   "source": [
    "print(dir({1}))\n",
    "\n",
    "a={1,2,3}\n",
    "b={2,3,4}\n",
    "\n",
    "print(\"a|b=합집합\",a|b, a.union(b))\n",
    "print(\"a&b=교집합\",a&b, a.intersection(b))\n",
    "print(\"a-b=ck집합\",a-b, a.difference(b))\n",
    "print(\"a^b=대칭차집합\",a^b, a.symmetric_difference(b))\n",
    "\n",
    "a.add(8) # 요소 추가"
   ]
  },
  {
   "cell_type": "code",
   "execution_count": null,
   "metadata": {},
   "outputs": [],
   "source": [
    "a={1,2,3}\n",
    "b={2,3,4}"
   ]
  },
  {
   "cell_type": "markdown",
   "metadata": {},
   "source": [
    "### 딕셔너리"
   ]
  },
  {
   "cell_type": "code",
   "execution_count": null,
   "metadata": {},
   "outputs": [],
   "source": [
    "# 딕셔너리, Dictionary\n",
    "dict = {\"a\": \"apple\", \"b\": \"banana\", \"c\": \"cherry\"}\n",
    "print(\"a\" in dict) # 출력: True (딕셔너리에서 'in'은 key를 찾습니다.)\n",
    "\n",
    "ages = {\"John\": 30, \"Lisa\": 25, \"Sarah\": 35}\n",
    "print(ages[\"Lisa\"])  # Output: 25\n",
    "\n",
    "# 새로운 키-값 쌍 추가\n",
    "ages[\"Daniel\"] = 40\n",
    "print(ages)  # Output: {'John': 30, 'Lisa': 25, 'Sarah': 35, 'Daniel': 40}"
   ]
  },
  {
   "cell_type": "code",
   "execution_count": null,
   "metadata": {},
   "outputs": [],
   "source": [
    "dict = {\"a\": \"apple\", \"b\": \"banana\", \"c\": \"cherry\"}"
   ]
  }
 ],
 "metadata": {
  "kernelspec": {
   "display_name": "Python 3",
   "language": "python",
   "name": "python3"
  },
  "language_info": {
   "codemirror_mode": {
    "name": "ipython",
    "version": 3
   },
   "file_extension": ".py",
   "mimetype": "text/x-python",
   "name": "python",
   "nbconvert_exporter": "python",
   "pygments_lexer": "ipython3",
   "version": "3.8.3"
  }
 },
 "nbformat": 4,
 "nbformat_minor": 2
}
