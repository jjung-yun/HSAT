{
 "cells": [
  {
   "cell_type": "code",
   "execution_count": null,
   "metadata": {},
   "outputs": [],
   "source": [
    "print(dir([1,2]))\n",
    "\n",
    "# 리스트\n",
    "list1 = [1, 2, 3]\n",
    "list2 = [4, 5, 6]\n",
    "\n",
    "print(list1 + list2) # 출력: [1, 2, 3, 4, 5, 6]\n",
    "print(list1 * 3)     # 출력: [1, 2 ,3 ,1 ,2 ,3 ,1 ,2 ,3]\n",
    "print(2 in list1)    # 출력: True"
   ]
  },
  {
   "cell_type": "code",
   "execution_count": null,
   "metadata": {},
   "outputs": [],
   "source": [
    "#튜플\n",
    "print(dir((1,2)))\n",
    "t1 = (1, 2, 3)\n",
    "t2 = (4, 5, 6)\n",
    "\n",
    "print(t1 + t2)    # 출력: (1, 2, 3, 4, 5, 6)\n",
    "print(t1 * 3)     # 출력: (1, 2 ,3 ,1 ,2 ,3 ,1 ,2 ,3)\n",
    "print(2 in t1)    # 출력: True"
   ]
  },
  {
   "cell_type": "code",
   "execution_count": null,
   "metadata": {},
   "outputs": [],
   "source": [
    "# 집합, Set\n",
    "print(dir({1}))\n",
    "\n",
    "a={1,2,3}\n",
    "b={2,3,4}\n",
    "\n",
    "print(\"a|b=합집합\",a|b, a.union(b))\n",
    "print(\"a&b=교집합\",a&b, a.intersection(b))\n",
    "print(\"a-b=ck집합\",a-b, a.difference(b))\n",
    "print(\"a^b=대칭차집합\",a^b, a.symmetric_difference(b))"
   ]
  }
 ],
 "metadata": {
  "language_info": {
   "name": "python"
  }
 },
 "nbformat": 4,
 "nbformat_minor": 2
}
