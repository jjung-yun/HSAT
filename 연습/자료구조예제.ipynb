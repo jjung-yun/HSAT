{
 "cells": [
  {
   "cell_type": "code",
   "execution_count": null,
   "metadata": {},
   "outputs": [],
   "source": [
    "# 딕셔너리와 리스트 사용\n",
    "scores = {\n",
    "    \"John\": {\"Math\": 90, \"Science\": 80},\n",
    "    \"Lisa\": {\"Math\": 85, \"Science\": 95},\n",
    "}\n",
    "print(scores[\"John\"][\"Math\"])  # Output: 90"
   ]
  },
  {
   "cell_type": "code",
   "execution_count": null,
   "metadata": {},
   "outputs": [],
   "source": [
    "# 딕셔너리와 튜플을 for문과 함께 사용하는 예제\n",
    "ages = {\"John\": 30, \"Lisa\": 25, \"Sarah\": 35}\n",
    "\n",
    "for name, age in ages.items():\n",
    "    print(f\"{name} is {age} years old.\")"
   ]
  }
 ],
 "metadata": {
  "language_info": {
   "name": "python"
  }
 },
 "nbformat": 4,
 "nbformat_minor": 2
}
