{
 "cells": [
  {
   "cell_type": "code",
   "execution_count": 1,
   "metadata": {},
   "outputs": [
    {
     "data": {
      "text/plain": [
       "3"
      ]
     },
     "execution_count": 1,
     "metadata": {},
     "output_type": "execute_result"
    }
   ],
   "source": [
    "a=1+2\n",
    "a"
   ]
  },
  {
   "cell_type": "markdown",
   "metadata": {},
   "source": [
    "### 1. 리스트 (List)  \n",
    "리스트는 여러 값을 순서대로 저장하는 자료구조입니다. 중복된 값이 있을 수 있으며, 값의 추가, 제거, 수정이 가능합니다.  \n",
    "```python\n",
    "fruits = [\"apple\", \"banana\", \"cherry\"]\n",
    "fruits.append(\"orange\")\n",
    "fruits.remove(\"apple\")\n",
    "fruits[1] = \"kiwi\"\n",
    "```\n",
    "\n",
    "### 2. 튜플 (Tuple)\n",
    "튜플은 여러 값을 순서대로 저장하는 자료구조지만, 리스트와 달리 한 번 생성한 튜플은 수정할 수 없습니다.\n",
    "\n",
    "```python\n",
    "coordinate = (3, 4)\n",
    "```\n",
    "\n",
    "하나\n",
    "\n",
    "둘\n",
    "셋\n",
    "\n",
    "\n",
    "\n",
    "넷 (enter 2번 이상쓰면 1줄 띄움)"
   ]
  }
 ],
 "metadata": {
  "kernelspec": {
   "display_name": "Python 3",
   "language": "python",
   "name": "python3"
  },
  "language_info": {
   "codemirror_mode": {
    "name": "ipython",
    "version": 3
   },
   "file_extension": ".py",
   "mimetype": "text/x-python",
   "name": "python",
   "nbconvert_exporter": "python",
   "pygments_lexer": "ipython3",
   "version": "3.8.3"
  }
 },
 "nbformat": 4,
 "nbformat_minor": 2
}
