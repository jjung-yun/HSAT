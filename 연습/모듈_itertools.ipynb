{
 "cells": [
  {
   "cell_type": "markdown",
   "metadata": {},
   "source": [
    "### combinations (조합)"
   ]
  },
  {
   "cell_type": "code",
   "execution_count": null,
   "metadata": {},
   "outputs": [],
   "source": [
    "from itertools import combinations as cb #combinations를 cb로 줄여쓸 수 있음.\n",
    "from itertools import permutations\n",
    "\n",
    "arr=['a','b','c']\n",
    "for i in cb(arr,2): #프린트 방법1\n",
    "\tprint(i)\n",
    "\n",
    "print(list(permutations(arr,2))) #프린트 방법2\n",
    "\n",
    "#순열 입력받은거 중에서 2개 바로 출력하는 구문\n",
    "for i in permutations(list(map(int,input().split())),2): \n",
    "\tprint(i)\n",
    "\n",
    "#수열만들기 \n",
    "from itertools import combinations as cb\n",
    "n,r=map(int,input().split())\n",
    "lst=list(range(1,n+1)) # 1~n 까지의 리스트\n",
    "\n",
    "for i in cb(lst,r): #리스트 중 r개 뽑기\n",
    "    for j in i: #combination 출력 시 튜플을 기본으로 바꿔주는 법\n",
    "        print(j,end=' ')\n",
    "    print()"
   ]
  },
  {
   "cell_type": "markdown",
   "metadata": {},
   "source": [
    "### Permutation (순열)"
   ]
  }
 ],
 "metadata": {
  "language_info": {
   "name": "python"
  }
 },
 "nbformat": 4,
 "nbformat_minor": 2
}
