{
 "cells": [
  {
   "cell_type": "markdown",
   "metadata": {},
   "source": [
    "1. 가장 많이 출제됨.\n",
    "2. 폭 넒게 출제돼 다익스트라 같은 특이 케이스 말고는 암기로 대처하기 힘듦.\n",
    "3. 가장 좋은 것만 택했을 때, 답이 되는지 유심히 알 것.\n",
    "4. 그리디 + 정렬 문제 잘 나옴 (가장 큰, 가장 작은 순으로 하면 그리디가 쉬운 경우 많음.)"
   ]
  },
  {
   "cell_type": "code",
   "execution_count": 2,
   "metadata": {},
   "outputs": [
    {
     "name": "stdout",
     "output_type": "stream",
     "text": [
      "6\n"
     ]
    }
   ],
   "source": [
    "# 거스름돈 동전 최소 개수 문제\n",
    "money = int(input())\n",
    "coins = [500, 100, 50, 10]\n",
    "cnt=0\n",
    "for i in coins:\n",
    "    while money>=i:\n",
    "        cnt+=1\n",
    "        money-=i\n",
    "\n",
    "print(cnt)"
   ]
  },
  {
   "cell_type": "code",
   "execution_count": 3,
   "metadata": {},
   "outputs": [
    {
     "name": "stdout",
     "output_type": "stream",
     "text": [
      "6\n"
     ]
    }
   ],
   "source": [
    "# 모범 답안\n",
    "n=1260\n",
    "count=0\n",
    "\n",
    "array = [500, 100, 50, 10]\n",
    "\n",
    "for coin in array:\n",
    "    count+=n//coin # 해당 화폐로 거슬러 줄 수 있는 동전의 개수 세기 : 훨씬 빠를듯\n",
    "    n%=coin\n",
    "\n",
    "print(count)"
   ]
  }
 ],
 "metadata": {
  "kernelspec": {
   "display_name": "Python 3",
   "language": "python",
   "name": "python3"
  },
  "language_info": {
   "codemirror_mode": {
    "name": "ipython",
    "version": 3
   },
   "file_extension": ".py",
   "mimetype": "text/x-python",
   "name": "python",
   "nbconvert_exporter": "python",
   "pygments_lexer": "ipython3",
   "version": "0.0.0"
  }
 },
 "nbformat": 4,
 "nbformat_minor": 2
}
