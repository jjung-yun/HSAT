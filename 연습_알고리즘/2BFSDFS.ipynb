{
 "cells": [
  {
   "cell_type": "markdown",
   "metadata": {},
   "source": [
    "### BFS \n",
    ": 시작 노드에서 가까운 노드를 먼저 방문하므로 가장 짧은 경로를 찾는 문제에 적합합니다. 예를 들어, 미로 찾기 문제나 최소 이동 횟수를 구하는 문제 등에 BFS가 사용됩니다."
   ]
  },
  {
   "cell_type": "code",
   "execution_count": 16,
   "metadata": {},
   "outputs": [
    {
     "name": "stdout",
     "output_type": "stream",
     "text": [
      "3\n"
     ]
    }
   ],
   "source": [
    "from collections import deque\n",
    "# collections.deque를 사용하면 양방향으로 stack과 queue를 동시 구현 및 더 쉬움.\n",
    "\n",
    "graph = [\n",
    "    [0, 0, 1, 1, 0],\n",
    "    [0, 0, 0, 1, 1],\n",
    "    [1, 1, 1, 1, 1],\n",
    "    [0, 0, 0, 0, 0]\n",
    "]\n",
    "\n",
    "# 이차원 그리드에서 상하좌우로 인접한 0들의 묶음을 찾는 문제\n",
    "\n",
    "# 1. 상하좌우 인덱스 확인을 위한 리스트 생성\n",
    "dx = [-1,1,0,0]\n",
    "dy = [0,0,-1,1]\n",
    "\n",
    "# 2. BFS를 위한 함수 생성\n",
    "def BFS(x,y,visited): #특정 좌표와 방문한지 여부. 기존은 (그래프, 시작노드)\n",
    "\n",
    "    # 시작 노드를 큐에 넣고 방문 처리\n",
    "    queue = deque([(x,y)]) #이 점을 기준으로 주변 가능한 좌표를 큐에 다 넣고 본인 삭제\n",
    "    visited[x][y] = True # 2차원 배열의 시작 노드점은 방문처리\n",
    "\n",
    "    # 주변 가능한 좌표 다 넣고 본인 삭제를 큐가 빌때까지 반복\n",
    "    while queue:\n",
    "        x, y = queue.popleft() #큐니까 왼쪽에서 뺌. 그 값을 튜플에서 할당\n",
    "        for i in range(4): # 상하좌우 4번 확인\n",
    "            nx = x + dx[i] # i=0일때 좌, i=1일때 우 값.\n",
    "            ny = y + dy[i] # i=2 하, i=3 상\n",
    "\n",
    "            # 상하좌우값이 그래프 범위를 넘어가면 무시. 행렬크기 조심!!\n",
    "            if nx<0 or ny<0 or nx>=len(graph) or ny>=len(graph[0]):\n",
    "                continue\n",
    "\n",
    "            # 원하는 값 0이 아닌 1이거나, 방문한 경우 무시\n",
    "            if graph[nx][ny]==1 or visited[nx][ny]:\n",
    "                continue\n",
    "\n",
    "            #위 조건이 아니면 새로 확인할 노드를 큐에 넣고 방문처리\n",
    "            queue.append((nx,ny)) # 튜플 형태로 삽입\n",
    "            visited[nx][ny]=True\n",
    "\n",
    "# 3. 문제 해결 함수 생성\n",
    "def solve():\n",
    "    # 초기화 : len(graph[0])는 행의 길이 / len(graph)는 열의 길이\n",
    "    visited=[[False]*len(graph[0]) for _ in range(len(graph))]\n",
    "    count = 0 # 답으로 출력할 값\n",
    "\n",
    "    # 모든 적합한 노드에 BFS 수행 (visited변수로 최대한 적게 수행)\n",
    "    for i in range(len(graph)):\n",
    "        for j in range(len(graph[0])):\n",
    "            if graph[i][j]==0 and not visited[i][j]:#==False:\n",
    "                BFS(i,j,visited)\n",
    "                count+=1\n",
    "\n",
    "    return count\n",
    "\n",
    "print(solve())\n",
    "\n",
    "\n"
   ]
  },
  {
   "cell_type": "code",
   "execution_count": 12,
   "metadata": {},
   "outputs": [
    {
     "name": "stdout",
     "output_type": "stream",
     "text": [
      "0 1 2 3 4 5 "
     ]
    }
   ],
   "source": [
    "import queue\n",
    "\n",
    "# 그래프를 2차원 리스트로 표현\n",
    "graph = [\n",
    "    [0, 1, 1, 0, 0, 0],\n",
    "    [1, 0, 0, 1, 1, 0],\n",
    "    [1, 0, 0, 0, 0, 1],\n",
    "    [0, 1, 0, 0, 0, 0],\n",
    "    [0, 1, 0, 0, 0, 1],\n",
    "    [0, 0, 1, 0, 1, 0]\n",
    "]\n",
    "\n",
    "def bfs(graph, start):\n",
    "    visited = [0 for _ in range(len(graph))]\n",
    "    q = queue.Queue()\n",
    "    \n",
    "    q.put(start)\n",
    "    visited[start] = 1\n",
    "\n",
    "    while not q.empty():\n",
    "        v = q.get()\n",
    "        print(v, end=' ')\n",
    "\n",
    "        for i in range(len(graph[v])):\n",
    "            if not visited[i] and graph[v][i]:\n",
    "                q.put(i)\n",
    "                visited[i] = 1\n",
    "\n",
    "bfs(graph, 0)  # 0 1 2 3 4 5\n"
   ]
  },
  {
   "cell_type": "code",
   "execution_count": 13,
   "metadata": {},
   "outputs": [
    {
     "name": "stdout",
     "output_type": "stream",
     "text": [
      "['A', 'B', 'C', 'D', 'E', 'F']\n"
     ]
    }
   ],
   "source": [
    "# 그래프를 딕셔너리 형태로 표현\n",
    "graph = {\n",
    "  'A' : ['B','C'],\n",
    "  'B' : ['D', 'E'],\n",
    "  'C' : ['F'],\n",
    "  'D' : [],\n",
    "  'E' : ['F'],\n",
    "  'F' : []\n",
    "}\n",
    "\n",
    "# BFS 함수\n",
    "def bfs(graph, start):\n",
    "    visited = [] # 방문한 노드를 저장\n",
    "    queue = [start] # 시작 노드를 큐에 넣음\n",
    "\n",
    "    while queue: # 큐가 빌 때까지 반복\n",
    "        node = queue.pop(0) # 큐의 앞에서부터 노드를 꺼냄\n",
    "        if node not in visited: # 노드가 방문한 리스트에 없으면\n",
    "            visited.append(node) # 방문한 리스트에 추가\n",
    "            queue.extend(graph[node]) # 해당 노드의 자식 노드를 큐에 추가\n",
    "\n",
    "    return visited\n",
    "\n",
    "print(bfs(graph, 'A')) # ['A', 'B', 'C', 'D', 'E', 'F']"
   ]
  },
  {
   "cell_type": "code",
   "execution_count": 4,
   "metadata": {},
   "outputs": [
    {
     "name": "stdout",
     "output_type": "stream",
     "text": [
      "3\n"
     ]
    }
   ],
   "source": [
    "# 안 보고 BFS 구현하기\n",
    "from collections import deque\n",
    "\n",
    "graph = [\n",
    "    [0, 0, 1, 1, 0],\n",
    "    [0, 0, 0, 1, 1],\n",
    "    [1, 1, 1, 1, 1],\n",
    "    [0, 0, 0, 0, 0]\n",
    "]\n",
    "\n",
    "# BFS 구현 함수\n",
    "def BFS(x,y,visited):\n",
    "    # 시작 노드 넣고 방문처리\n",
    "    queue = deque([(x,y)]) # deque() 안에 리스트를 넣어야하고, 리스트 값으로 튜플\n",
    "    visited[x][y]=True\n",
    "\n",
    "    # 상하좌우 확인할 노드 인덱스\n",
    "    dx=[-1,1,0,0]\n",
    "    dy=[0,0,-1,1]\n",
    "\n",
    "    # 큐가 빌 때까지 상하좌우 노드들을 확인\n",
    "    while queue:\n",
    "        # 처음 값 뿐 아니라 queue 넣은 x,y값도 사용하고 쓴 값은 제거.\n",
    "        x,y = queue.popleft() # BFS이므로 왼쪽에서 뽑기\n",
    "        for i in range(4):\n",
    "            nx = x + dx[i]\n",
    "            ny = y + dy[i]\n",
    "\n",
    "            # case 1. 상하좌우 노드가 그래프를 벗어나면 x\n",
    "            if nx<0 or ny<0 or nx>=len(graph) or ny>=len(graph[0]):\n",
    "                continue \n",
    "            # case 2. 상하좌우 노드 값이 1이거나 방문했으면 x\n",
    "            if graph[nx][ny]==1 or visited[nx][ny]:\n",
    "                continue\n",
    "\n",
    "            # 위 케이스가 아니면 큐에 넣고 방문처리\n",
    "            queue.append((nx,ny))\n",
    "            visited[nx][ny]=True\n",
    "\n",
    "def solve():\n",
    "    #초기화\n",
    "    visited=[[False]*len(graph[0]) for _ in range(len(graph))]\n",
    "    count=0\n",
    "\n",
    "    # 적합한 모든 노드에서 BFS\n",
    "    for i in range(len(graph)):\n",
    "        for j in range(len(graph[0])):\n",
    "            if graph[i][j]==0 and not visited[i][j]: # 0이고 방문 안한 노드\n",
    "                BFS(i,j,visited)\n",
    "                count+=1\n",
    "    return count\n",
    "\n",
    "print(solve())"
   ]
  },
  {
   "cell_type": "markdown",
   "metadata": {},
   "source": [
    "### DFS\n",
    ":  한 방향으로 깊게 파고들면서 노드를 방문하므로 경로의 갯수를 세거나, 모든 경로를 찾아야 하는 문제에 적합합니다. 예를 들어, 연결 요소의 수를 세거나, 사이클이 존재하는지 확인하는 문제 등에 DFS가 사용됩니다.\n",
    "=> 재귀 방식은 함수를 다시 호출하기 때문에 스택 메모리를 사용하고, 따라서 깊이가 너무 깊어지면 스택 오버플로우가 발생할 수 있습니다."
   ]
  },
  {
   "cell_type": "code",
   "execution_count": 14,
   "metadata": {},
   "outputs": [
    {
     "name": "stdout",
     "output_type": "stream",
     "text": [
      "0 1 3 4 5 2 "
     ]
    }
   ],
   "source": [
    "# 그래프를 2차원 리스트로 표현\n",
    "graph = [\n",
    "    [0, 1, 1, 0, 0, 0],\n",
    "    [1, 0, 0, 1, 1, 0],\n",
    "    [1, 0, 0, 0, 0, 1],\n",
    "    [0, 1, 0, 0, 0, 0],\n",
    "    [0, 1, 0, 0, 0, 1],\n",
    "    [0, 0, 1, 0, 1, 0]\n",
    "]\n",
    "\n",
    "def dfs(graph, start):\n",
    "    visited = [0 for _ in range(len(graph))]\n",
    "    stack = []\n",
    "\n",
    "    stack.append(start)\n",
    "\n",
    "    while stack:\n",
    "        v = stack.pop()\n",
    "        if not visited[v]:\n",
    "            visited[v] = 1\n",
    "            print(v, end=' ')\n",
    "\n",
    "            for i in range(len(graph[v])-1, -1, -1):\n",
    "                if graph[v][i] and not visited[i]:\n",
    "                    stack.append(i)\n",
    "\n",
    "dfs(graph, 0)  # 0 2 5 4 1 3\n"
   ]
  },
  {
   "cell_type": "code",
   "execution_count": 15,
   "metadata": {},
   "outputs": [
    {
     "name": "stdout",
     "output_type": "stream",
     "text": [
      "['A', 'B', 'D', 'E', 'F', 'C']\n"
     ]
    }
   ],
   "source": [
    "# 그래프를 딕셔너리 형태로 표현\n",
    "graph = {\n",
    "  'A' : ['B','C'],\n",
    "  'B' : ['D', 'E'],\n",
    "  'C' : ['F'],\n",
    "  'D' : [],\n",
    "  'E' : ['F'],\n",
    "  'F' : []\n",
    "}\n",
    "\n",
    "# DFS 함수\n",
    "def dfs(graph, start, visited=[]):\n",
    "    visited.append(start) # 시작 노드를 방문한 리스트에 추가\n",
    "\n",
    "    for node in graph[start]: # 시작 노드의 자식 노드를 순회\n",
    "        if node not in visited: # 해당 노드가 방문한 리스트에 없으면\n",
    "            dfs(graph, node, visited) # 해당 노드부터 DFS 시작\n",
    "\n",
    "    return visited\n",
    "\n",
    "print(dfs(graph, 'A')) # ['A', 'B', 'D', 'E', 'F', 'C']\n"
   ]
  },
  {
   "cell_type": "code",
   "execution_count": 5,
   "metadata": {},
   "outputs": [
    {
     "name": "stdout",
     "output_type": "stream",
     "text": [
      "3\n"
     ]
    }
   ],
   "source": [
    "graph = [\n",
    "    [0, 0, 1, 1, 0],\n",
    "    [0, 0, 0, 1, 1],\n",
    "    [1, 1, 1, 1, 1],\n",
    "    [0, 0, 0, 0, 0]\n",
    "]\n",
    "\n",
    "dx=[-1, 1, 0, 0]\n",
    "dy=[0, 0, -1, 1]\n",
    "\n",
    "def DFS(x,y,visited):\n",
    "    # makes the node visited\n",
    "    visited[x][y]=True\n",
    "\n",
    "    # search for near four nodes. no need to allocate x,y values\n",
    "    for i in range(4):\n",
    "        nx = x + dx[i]\n",
    "        ny = y + dy[i]\n",
    "\n",
    "        # check where the four nodes are in the graph\n",
    "        if nx<0 or ny<0 or nx>=len(graph) or ny>=len(graph[0]):\n",
    "            continue\n",
    "\n",
    "        # check whether the four node has 0 value and not visited\n",
    "        if graph[nx][ny]==1 or visited[nx][ny]==True:\n",
    "            continue\n",
    "\n",
    "        # otherwise, do DFS function recursively\n",
    "        DFS(nx, ny, visited)\n",
    "\n",
    "def solve():\n",
    "    # initialize\n",
    "    visited = [[False]*len(graph[0]) for _ in range(len(graph))]\n",
    "    count=0\n",
    "\n",
    "    # do the DFS function for all graph if in the suitable case\n",
    "    for i in range(len(graph)):\n",
    "        for j in range(len(graph[0])):\n",
    "            if graph[i][j]==0 and visited[i][j]==False:\n",
    "                DFS(i,j,visited)\n",
    "                count+=1 # count the answer value\n",
    "\n",
    "    return count\n",
    "\n",
    "print(solve())\n"
   ]
  }
 ],
 "metadata": {
  "kernelspec": {
   "display_name": "Python 3",
   "language": "python",
   "name": "python3"
  },
  "language_info": {
   "codemirror_mode": {
    "name": "ipython",
    "version": 3
   },
   "file_extension": ".py",
   "mimetype": "text/x-python",
   "name": "python",
   "nbconvert_exporter": "python",
   "pygments_lexer": "ipython3",
   "version": "3.11.8"
  }
 },
 "nbformat": 4,
 "nbformat_minor": 2
}
