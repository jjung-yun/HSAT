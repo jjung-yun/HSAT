{
 "cells": [
  {
   "cell_type": "code",
   "execution_count": 1,
   "metadata": {},
   "outputs": [
    {
     "name": "stdout",
     "output_type": "stream",
     "text": [
      "3\n"
     ]
    }
   ],
   "source": [
    "#10807\n",
    "n=input()\n",
    "numbers=list(input().split())\n",
    "number=input()\n",
    "print(numbers.count(number))"
   ]
  },
  {
   "cell_type": "code",
   "execution_count": null,
   "metadata": {},
   "outputs": [],
   "source": [
    "#10871\n",
    "N,X=map(int,input().split())\n",
    "numbers=list(map(int,input().split()))\n",
    "\n",
    "ans=[]\n",
    "for i in numbers:\n",
    "    if i < X:\n",
    "        ans.append(i)\n",
    "print(*ans)"
   ]
  },
  {
   "cell_type": "code",
   "execution_count": 2,
   "metadata": {},
   "outputs": [
    {
     "name": "stdout",
     "output_type": "stream",
     "text": [
      "7 35\n"
     ]
    }
   ],
   "source": [
    "#10818\n",
    "N=int(input())\n",
    "#numbers=[int(input()) for _ in range(N)] \n",
    "# for 을 통해 바로 리스트로 만드는 법 => 여러줄의 input일 때 유용함.\n",
    "\n",
    "numbers=list(map(int,input().split()))\n",
    "print(min(numbers), max(numbers))\n"
   ]
  },
  {
   "cell_type": "code",
   "execution_count": 3,
   "metadata": {},
   "outputs": [
    {
     "name": "stdout",
     "output_type": "stream",
     "text": [
      "85\n",
      "7\n"
     ]
    }
   ],
   "source": [
    "#2562\n",
    "numbers=[int(input()) for _ in range(9)]\n",
    "max_num=max(numbers)\n",
    "print(max_num, numbers.index(max_num)+1,sep='\\n')"
   ]
  },
  {
   "cell_type": "code",
   "execution_count": 7,
   "metadata": {},
   "outputs": [
    {
     "name": "stdout",
     "output_type": "stream",
     "text": [
      "1 2 1 1 0\n"
     ]
    }
   ],
   "source": [
    "#10810\n",
    "N,M=map(int,input().split())\n",
    "basket=[0 for _ in range(N)]\n",
    "for _ in range(M):\n",
    "    i,j,k=map(int,input().split())\n",
    "    for ball in range(i-1,j):\n",
    "        basket[ball]=k\n",
    "print(*basket)"
   ]
  },
  {
   "cell_type": "code",
   "execution_count": 8,
   "metadata": {},
   "outputs": [
    {
     "name": "stdout",
     "output_type": "stream",
     "text": [
      "3 1 4 2 5\n"
     ]
    }
   ],
   "source": [
    "#10813\n",
    "N,M=map(int,input().split())\n",
    "numbers=[i for i in range(1,N+1)]\n",
    "for _ in range(M):\n",
    "    a,b=map(int,input().split())\n",
    "    numbers[a-1],numbers[b-1]=numbers[b-1],numbers[a-1]\n",
    "print(*numbers)"
   ]
  },
  {
   "cell_type": "code",
   "execution_count": null,
   "metadata": {},
   "outputs": [],
   "source": [
    "#5597\n",
    "numbers=[False for _ in range(30)]\n",
    "for _ in range(28):\n",
    "    numbers[int(input())-1]=True\n",
    "\n",
    "ans=[]\n",
    "for i in range(30):\n",
    "    if numbers[i]==False:\n",
    "        ans.append(i+1)\n",
    "print(*ans,sep='\\n')"
   ]
  },
  {
   "cell_type": "code",
   "execution_count": 2,
   "metadata": {},
   "outputs": [
    {
     "name": "stdout",
     "output_type": "stream",
     "text": [
      "False\n",
      "True\n",
      "0\n",
      "False\n",
      "True\n",
      "0\n"
     ]
    },
    {
     "ename": "ValueError",
     "evalue": "invalid literal for int() with base 10: ''",
     "output_type": "error",
     "traceback": [
      "\u001b[1;31m---------------------------------------------------------------------------\u001b[0m",
      "\u001b[1;31mValueError\u001b[0m                                Traceback (most recent call last)",
      "Cell \u001b[1;32mIn[2], line 7\u001b[0m\n\u001b[0;32m      5\u001b[0m \u001b[38;5;28mdict\u001b[39m \u001b[38;5;241m=\u001b[39m {i: \u001b[38;5;28;01mFalse\u001b[39;00m \u001b[38;5;28;01mfor\u001b[39;00m i \u001b[38;5;129;01min\u001b[39;00m \u001b[38;5;28mrange\u001b[39m(\u001b[38;5;241m42\u001b[39m)}\n\u001b[0;32m      6\u001b[0m \u001b[38;5;28;01mfor\u001b[39;00m _ \u001b[38;5;129;01min\u001b[39;00m \u001b[38;5;28mrange\u001b[39m(\u001b[38;5;241m10\u001b[39m):\n\u001b[1;32m----> 7\u001b[0m     n\u001b[38;5;241m=\u001b[39m\u001b[38;5;28;43mint\u001b[39;49m\u001b[43m(\u001b[49m\u001b[38;5;28;43minput\u001b[39;49m\u001b[43m(\u001b[49m\u001b[43m)\u001b[49m\u001b[43m)\u001b[49m\n\u001b[0;32m      8\u001b[0m     \u001b[38;5;28mprint\u001b[39m(\u001b[38;5;28mdict\u001b[39m[n\u001b[38;5;241m%\u001b[39m\u001b[38;5;241m42\u001b[39m])\n\u001b[0;32m      9\u001b[0m     \u001b[38;5;28;01mif\u001b[39;00m \u001b[38;5;28mdict\u001b[39m[n\u001b[38;5;241m%\u001b[39m\u001b[38;5;241m42\u001b[39m]\u001b[38;5;241m==\u001b[39m\u001b[38;5;28;01mFalse\u001b[39;00m:\n",
      "\u001b[1;31mValueError\u001b[0m: invalid literal for int() with base 10: ''"
     ]
    }
   ],
   "source": [
    "cnt=0\n",
    "rest=[i for i in range(42)] # 1차원 배열쓰면 쉬움.\n",
    "\n",
    "# Dictionary연습 키값은 0~41까지 순차적으로 증가하고, 일단 모든 value값은 False\n",
    "dict = {i: False for i in range(42)}\n",
    "for _ in range(10):\n",
    "    n=int(input())\n",
    "    if dict[n%42]==False:\n",
    "        dict[n%42]=True\n",
    "        cnt+=1\n",
    "print(cnt)"
   ]
  },
  {
   "cell_type": "code",
   "execution_count": 4,
   "metadata": {},
   "outputs": [
    {
     "name": "stdout",
     "output_type": "stream",
     "text": [
      "3\n",
      "4\n",
      "1\n",
      "2\n",
      "5\n"
     ]
    }
   ],
   "source": [
    "# 10811 리스트 뒤집기\n",
    "N,M=map(int,input().split())\n",
    "basket=[i+1 for i in range(N)]\n",
    "for _ in range(M):\n",
    "    start,end=map(int,input().split())\n",
    "    basket[start-1:end]=basket[start-1:end][::-1]\n",
    "print(*basket,sep=' ')"
   ]
  },
  {
   "cell_type": "code",
   "execution_count": null,
   "metadata": {},
   "outputs": [],
   "source": [
    "# 리스트 인덱스만 뽑아서 정렬 및 뒤집기\n",
    "lst = [1, 2, 3, 4, 5, 6, 7, 8, 9]\n",
    "start, end = 2, 6  # 역순으로 정렬할 부분의 시작 인덱스와 끝 인덱스\n",
    "\n",
    "lst[start:end] = sorted(lst[start:end], reverse=True)"
   ]
  }
 ],
 "metadata": {
  "kernelspec": {
   "display_name": "Python 3",
   "language": "python",
   "name": "python3"
  },
  "language_info": {
   "codemirror_mode": {
    "name": "ipython",
    "version": 3
   },
   "file_extension": ".py",
   "mimetype": "text/x-python",
   "name": "python",
   "nbconvert_exporter": "python",
   "pygments_lexer": "ipython3",
   "version": "3.10.6"
  }
 },
 "nbformat": 4,
 "nbformat_minor": 2
}
