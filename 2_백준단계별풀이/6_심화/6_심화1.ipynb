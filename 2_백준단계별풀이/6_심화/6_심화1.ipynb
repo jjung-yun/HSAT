{
 "cells": [
  {
   "cell_type": "code",
   "execution_count": 1,
   "metadata": {},
   "outputs": [
    {
     "name": "stdout",
     "output_type": "stream",
     "text": [
      "         ,r\"'7\n",
      "r`-_   ,'  ,/\n",
      " \\. \". L_r'\n",
      "   `~\\/ \n",
      "      |\n",
      "      |\n"
     ]
    }
   ],
   "source": [
    "#25083\n",
    "print('         ,r\\'\"7')\n",
    "print('r`-_   ,\\'  ,/')\n",
    "print(' \\\\. \". L_r\\'')\n",
    "print('   `~\\\\/ ')\n",
    "print('      |')\n",
    "print('      |')\n"
   ]
  },
  {
   "cell_type": "code",
   "execution_count": 5,
   "metadata": {},
   "outputs": [
    {
     "name": "stdout",
     "output_type": "stream",
     "text": [
      "2\n"
     ]
    }
   ],
   "source": [
    "#1157 가장많이 사용된 단어\n",
    "\n",
    "#대소문자를 구분하지 않으므로\n",
    "word=input().upper()\n",
    "\n",
    "#집합보다 딕셔너리 쓰는게 좋음.\n",
    "word_set=set(word)\n",
    "\n",
    "# 대소문자 구분 없이 모두 소문자로 변환\n",
    "words = [i.lower() for i in word]"
   ]
  },
  {
   "cell_type": "code",
   "execution_count": 1,
   "metadata": {},
   "outputs": [
    {
     "name": "stdout",
     "output_type": "stream",
     "text": [
      "1\n"
     ]
    }
   ],
   "source": [
    "#1157 위 문제 딕셔너리 풀이\n",
    "word=input().upper()\n",
    "\n",
    "# 딕셔너리를 사용하여 단어의 빈도 세기\n",
    "word_count={}\n",
    "for i in word:\n",
    "    if i in word_count:\n",
    "        word_count[i]+=1\n",
    "    else:\n",
    "        word_count[i]=1\n",
    "\n",
    "# word_counts 딕셔너리의 가장 큰 value를 가지는 key를 출력\n",
    "max_key=max(word_count,key=word_count.get)\n",
    "print(max_key)\n",
    "\n",
    "# max라는 변수를 쓰고 있어서 함수랑 오류나는거임."
   ]
  }
 ],
 "metadata": {
  "kernelspec": {
   "display_name": "Python 3",
   "language": "python",
   "name": "python3"
  },
  "language_info": {
   "codemirror_mode": {
    "name": "ipython",
    "version": 3
   },
   "file_extension": ".py",
   "mimetype": "text/x-python",
   "name": "python",
   "nbconvert_exporter": "python",
   "pygments_lexer": "ipython3",
   "version": "3.10.6"
  }
 },
 "nbformat": 4,
 "nbformat_minor": 2
}
