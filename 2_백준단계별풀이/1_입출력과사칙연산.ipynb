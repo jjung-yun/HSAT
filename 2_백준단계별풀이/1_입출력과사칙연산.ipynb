{
 "cells": [
  {
   "cell_type": "code",
   "execution_count": 2,
   "metadata": {},
   "outputs": [
    {
     "name": "stdout",
     "output_type": "stream",
     "text": [
      "12\n"
     ]
    }
   ],
   "source": [
    "# 10998\n",
    "a,b=map(int,input().split())\n",
    "print(a*b)"
   ]
  },
  {
   "cell_type": "code",
   "execution_count": 3,
   "metadata": {},
   "outputs": [
    {
     "name": "stdout",
     "output_type": "stream",
     "text": [
      "10\n",
      "4\n",
      "21\n",
      "2\n",
      "1\n"
     ]
    }
   ],
   "source": [
    "# 10869\n",
    "a,b=map(int,input().split())\n",
    "print(a+b,a-b,a*b,a//b,a%b,sep='\\n')"
   ]
  },
  {
   "cell_type": "code",
   "execution_count": 4,
   "metadata": {},
   "outputs": [
    {
     "name": "stdout",
     "output_type": "stream",
     "text": [
      "joonas??!\n"
     ]
    }
   ],
   "source": [
    "# 10926\n",
    "print(input()+'??!')"
   ]
  },
  {
   "cell_type": "code",
   "execution_count": 6,
   "metadata": {},
   "outputs": [
    {
     "name": "stdout",
     "output_type": "stream",
     "text": [
      "1998\n"
     ]
    }
   ],
   "source": [
    "# 18108\n",
    "print(int(input())-543)"
   ]
  },
  {
   "cell_type": "code",
   "execution_count": 7,
   "metadata": {},
   "outputs": [
    {
     "name": "stdout",
     "output_type": "stream",
     "text": [
      "1\n",
      "1\n",
      "0\n",
      "0\n"
     ]
    }
   ],
   "source": [
    "#10430\n",
    "A,B,C=map(int,input().split())\n",
    "print((A+B)%C,((A%C)+(B%C))%C,(A*B)%C,((A%C)*(B%C))%C,sep='\\n')"
   ]
  },
  {
   "cell_type": "code",
   "execution_count": 3,
   "metadata": {},
   "outputs": [
    {
     "name": "stdout",
     "output_type": "stream",
     "text": [
      "2360\n",
      "3776\n",
      "1416\n",
      "385385385385385385385385385385385385385385385385385385385385385385385385385385385385385385385385385385385385385385385385385385385385385385385385385385385385385385385385385385385385385385385385385385385385385385385385385385385385385385385385385385385385385385385385385385385385385385385385385385385385385385385385385385385385385385385385385385385385385385385385385385385385385385385385385385385385385385385385385385385385385385385385385385385385385385385385385385385385385385385385385385385385385385385385385385385385385385385385385385385385385385385385385385385385385385385385385385385385385385385385385385385385385385385385385385385385385385385385385385385385385385385385385385385385385385385385385385385385385385385385385385385385385385385385385385385385385385385385385385385385385385385385385385385385385385385385385385385385385385385385385385385385385385385385385385385385385385385385385385385385385385385385385385385385385385385385385385385385385385385385385385385385385385385385385385385385385385385385385385385385385385385385385385385385385385385385385385385385385385385385385385385385385385385385385385385385385385385385385385385385385385385385385385385385385385385385385385385385385385385385385385385385385385385385385385385385385385385385385385385385385385385385385385385385385385385385385385385385385385385385385385385385385385385385385385385385385385385385385385385385385385385385385385385385385385385385\n"
     ]
    }
   ],
   "source": [
    "# 2588. \n",
    "#sys.stdin.readlines()는 주피터에서 못 씀.\n",
    "#input은 무조건 한 줄에 1개씩이라 다른 줄의 input은 같이 못씀. input().split(sep='\\n') X\n",
    "a=int(input())\n",
    "b=input()\n",
    "print(a*int(b[2]),a*int(b[1]),a*int(b[0]),a*int(b),sep='\\n')"
   ]
  },
  {
   "cell_type": "code",
   "execution_count": null,
   "metadata": {},
   "outputs": [],
   "source": [
    "#11382\n",
    "a,b,c=map(int,input().split())\n",
    "print(a+b+c)"
   ]
  },
  {
   "cell_type": "code",
   "execution_count": 4,
   "metadata": {},
   "outputs": [
    {
     "name": "stdout",
     "output_type": "stream",
     "text": [
      "\\    /\\\n",
      " )  ( ')\n",
      "(  /  )\n",
      " \\(__)|\n"
     ]
    }
   ],
   "source": [
    "#10171\n",
    "print(\"\\    /\\\\\")\n",
    "print(\" )  ( ')\")\n",
    "print(\"(  /  )\")\n",
    "print(\" \\(__)|\")"
   ]
  },
  {
   "cell_type": "code",
   "execution_count": 5,
   "metadata": {},
   "outputs": [
    {
     "name": "stdout",
     "output_type": "stream",
     "text": [
      "|\\_/|\n",
      "|q p|   /}\n",
      "( 0 )\"\"\"\\\n",
      "|\"^\"`    |\n",
      "||_/=\\\\__|\n"
     ]
    }
   ],
   "source": [
    "#10172\n",
    "print(\"|\\_/|\")\n",
    "print(\"|q p|   /}\")\n",
    "print('( 0 )\"\"\"\\\\')\n",
    "print('|\"^\"`    |')\n",
    "print(\"||_/=\\\\\\__|\")"
   ]
  }
 ],
 "metadata": {
  "kernelspec": {
   "display_name": "Python 3",
   "language": "python",
   "name": "python3"
  },
  "language_info": {
   "codemirror_mode": {
    "name": "ipython",
    "version": 3
   },
   "file_extension": ".py",
   "mimetype": "text/x-python",
   "name": "python",
   "nbconvert_exporter": "python",
   "pygments_lexer": "ipython3",
   "version": "3.8.3"
  }
 },
 "nbformat": 4,
 "nbformat_minor": 2
}
