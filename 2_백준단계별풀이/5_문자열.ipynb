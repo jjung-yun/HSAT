{
 "cells": [
  {
   "cell_type": "code",
   "execution_count": 1,
   "metadata": {},
   "outputs": [
    {
     "name": "stdout",
     "output_type": "stream",
     "text": [
      "r\n"
     ]
    }
   ],
   "source": [
    "#27866\n",
    "word=input()\n",
    "print(word[int(input())-1])"
   ]
  },
  {
   "cell_type": "code",
   "execution_count": 2,
   "metadata": {},
   "outputs": [
    {
     "name": "stdout",
     "output_type": "stream",
     "text": [
      "8\n"
     ]
    }
   ],
   "source": [
    "#2743\n",
    "print(len(input()))"
   ]
  },
  {
   "cell_type": "code",
   "execution_count": 7,
   "metadata": {},
   "outputs": [
    {
     "name": "stdout",
     "output_type": "stream",
     "text": [
      "AE\n",
      "OO\n",
      "AB\n"
     ]
    }
   ],
   "source": [
    "#9086\n",
    "ans=[]\n",
    "for _ in range(int(input())):\n",
    "    word=input()\n",
    "    ans.append(word[0]+word[-1])\n",
    "print(*ans,sep='\\n')"
   ]
  },
  {
   "cell_type": "code",
   "execution_count": 8,
   "metadata": {},
   "outputs": [
    {
     "name": "stdout",
     "output_type": "stream",
     "text": [
      "65\n"
     ]
    }
   ],
   "source": [
    "#11654 아스키 코드 출력\n",
    "char = input()\n",
    "print(ord(char)) # 입력받은 문자의 아스키 코드값"
   ]
  },
  {
   "cell_type": "code",
   "execution_count": 10,
   "metadata": {},
   "outputs": [
    {
     "name": "stdout",
     "output_type": "stream",
     "text": [
      "6\n"
     ]
    }
   ],
   "source": [
    "ans=0\n",
    "N=int(input())\n",
    "lst=input()\n",
    "for i in range(N):\n",
    "    ans+=int(lst[i])\n",
    "print(ans)"
   ]
  },
  {
   "cell_type": "code",
   "execution_count": 11,
   "metadata": {},
   "outputs": [],
   "source": [
    "# 문자 입력 개수가 몇개인지 모를 때.\n",
    "while(True):\n",
    "    try:\n",
    "        print(input()) # 리스트에 append 해서 마지막에 print하는거는 안됨.\n",
    "    except:\n",
    "        break"
   ]
  },
  {
   "cell_type": "code",
   "execution_count": null,
   "metadata": {},
   "outputs": [],
   "source": [
    "# rstrip()은 문자열의 오른쪽 끝 공백과 개행문자 ('\\n')를 제거\n",
    "stdin.readline()은 개행 문자를 포함하여 한 줄을 그대로 입력 받기 때문에, 이를 제거하지 않으면 개행 문자까지 문자열의 일부로 취급되므로 주의해야 합니다.\\\n",
    "stdin.readline().rstrip()"
   ]
  },
  {
   "cell_type": "code",
   "execution_count": 3,
   "metadata": {},
   "outputs": [
    {
     "name": "stdout",
     "output_type": "stream",
     "text": [
      "13\n"
     ]
    }
   ],
   "source": [
    "# 5622 다이얼\n",
    "dict = {'A':2, 'B':2, 'C':2,\n",
    "        'D':3, 'E':3, 'F':3,\n",
    "        'G':4, 'H':4, 'I':4,\n",
    "        'J':5, 'K':5, 'L':5,\n",
    "        'M':6, 'N':6, 'O':6,\n",
    "        'P':7, 'Q':7, 'R':7, 'S':7,\n",
    "        'T':8, 'U':8, 'V':8,\n",
    "        'W':9, 'X':9, 'Y':9, 'Z':9\n",
    "        }\n",
    "ans=0\n",
    "\n",
    "word=input()\n",
    "for i in word:\n",
    "    ans+=dict[i]+1\n",
    "print(ans)"
   ]
  }
 ],
 "metadata": {
  "kernelspec": {
   "display_name": "Python 3",
   "language": "python",
   "name": "python3"
  },
  "language_info": {
   "codemirror_mode": {
    "name": "ipython",
    "version": 3
   },
   "file_extension": ".py",
   "mimetype": "text/x-python",
   "name": "python",
   "nbconvert_exporter": "python",
   "pygments_lexer": "ipython3",
   "version": "3.10.6"
  }
 },
 "nbformat": 4,
 "nbformat_minor": 2
}
