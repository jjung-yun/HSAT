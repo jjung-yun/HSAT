{
 "cells": [
  {
   "cell_type": "code",
   "execution_count": null,
   "metadata": {},
   "outputs": [],
   "source": [
    "#1330\n",
    "a,b=map(int,input().split())\n",
    "if a<b:\n",
    "    print(\"<\")\n",
    "elif a>b:\n",
    "    print(\">\")\n",
    "else:\n",
    "    print(\"==\")"
   ]
  },
  {
   "cell_type": "code",
   "execution_count": 3,
   "metadata": {},
   "outputs": [
    {
     "name": "stdout",
     "output_type": "stream",
     "text": [
      "F\n"
     ]
    }
   ],
   "source": [
    "#9498\n",
    "score=int(input())\n",
    "\n",
    "# 삼항 연산자, if 뒤에 else가 없으면 syntax error\n",
    "print(\"A\" if score>=90 else \"B\" if score>=80 else \"C\" if score>=70 else \"D\" if score>=60 else \"F\")"
   ]
  },
  {
   "cell_type": "code",
   "execution_count": null,
   "metadata": {},
   "outputs": [],
   "source": [
    "#2753\n",
    "year=int(input())\n",
    "print(1 if (year%4==0 and year%100!=0) or year%400==0 else 0)"
   ]
  },
  {
   "cell_type": "code",
   "execution_count": null,
   "metadata": {},
   "outputs": [],
   "source": [
    "#14681\n",
    "x=int(input())\n",
    "y=int(input())\n",
    "print(1 if x>0 and y>0 else 2 if x<0 and y>0 else 3 if x<0 and y<0 else 4)"
   ]
  },
  {
   "cell_type": "code",
   "execution_count": null,
   "metadata": {},
   "outputs": [],
   "source": [
    "# 2884 알람\n",
    "import datetime\n",
    "hour,minute=map(int,input().split())\n",
    "time = datetime.datetime(2024, 2, 6, hour, minute)\n",
    "new_time = time - datetime.timedelta(minutes=45)\n",
    "\n",
    "print(new_time.hour, new_time.minute)"
   ]
  },
  {
   "cell_type": "code",
   "execution_count": 4,
   "metadata": {},
   "outputs": [
    {
     "name": "stdout",
     "output_type": "stream",
     "text": [
      "14 50\n"
     ]
    }
   ],
   "source": [
    "#2525\n",
    "now_hour,now_minute=map(int,input().split())\n",
    "step=int(input())\n",
    "\n",
    "add_minute=now_minute+step\n",
    "add_hour=add_minute//60\n",
    "result_hour=now_hour+add_hour\n",
    "result_minute=add_minute%60\n",
    "# print(result_hour if result_hour<24 else result_hour-24, result_minute) 24가 넘어도 1번만 계산됨.\n",
    "print(result_hour if result_hour < 24 else result_hour % 24, result_minute)"
   ]
  },
  {
   "cell_type": "code",
   "execution_count": 5,
   "metadata": {},
   "outputs": [
    {
     "name": "stdout",
     "output_type": "stream",
     "text": [
      "1300\n"
     ]
    }
   ],
   "source": [
    "# 2480: 같은 수의 개수는 집합을 이용!\n",
    "dices=list(map(int,input().split()))\n",
    "dices.sort() #가장 큰 수를 써야하니 정렬\n",
    "\n",
    "if len(set(dices))==1:\n",
    "    print(10000+dices[0]*1000)\n",
    "elif len(set(dices))==2:\n",
    "    # if dices[0]==dices[1]: # 경우가 앞/뒤 같은지 2개 뿐임 (정렬상태)\n",
    "    #     print(1000+dices[0]*100)\n",
    "    print(1000+dices[1]*100) #정렬 상태니 중간은 무조건 같은 값\n",
    "else:\n",
    "    print(100*dices[2])\n",
    "    "
   ]
  }
 ],
 "metadata": {
  "kernelspec": {
   "display_name": "Python 3",
   "language": "python",
   "name": "python3"
  },
  "language_info": {
   "codemirror_mode": {
    "name": "ipython",
    "version": 3
   },
   "file_extension": ".py",
   "mimetype": "text/x-python",
   "name": "python",
   "nbconvert_exporter": "python",
   "pygments_lexer": "ipython3",
   "version": "3.8.3"
  }
 },
 "nbformat": 4,
 "nbformat_minor": 2
}
