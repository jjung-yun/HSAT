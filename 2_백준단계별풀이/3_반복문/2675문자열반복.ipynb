{
 "cells": [
  {
   "cell_type": "code",
   "execution_count": 1,
   "metadata": {},
   "outputs": [],
   "source": [
    "import sys\n",
    "\n",
    "T=int(sys.stdin.readline())\n",
    "results=[]\n",
    "for _ in range(T):\n",
    "    number, word = sys.stdin.readline().split()\n",
    "    results.append(''.join(word*int(number))) # join 앞에 글자는 구분기호임. ''인 경우 구분기호 없이 출력\n",
    "print(*results, sep='\\n')"
   ]
  },
  {
   "cell_type": "code",
   "execution_count": 1,
   "metadata": {},
   "outputs": [],
   "source": [
    "import sys\n",
    "\n",
    "T=int(sys.stdin.readline())\n",
    "results=[]\n",
    "for _ in range(T):\n",
    "    number, word = sys.stdin.readline().split()\n",
    "    result=''\n",
    "    for i in word:\n",
    "        result+=i*int(number)\n",
    "        #results.append(''.join(i*int(number))) # join 앞에 글자는 구분기호임. ''인 경우 구분기호 없이 출력\n",
    "    results.append(result)\n",
    "print(*results, sep='\\n')"
   ]
  }
 ],
 "metadata": {
  "kernelspec": {
   "display_name": "Python 3",
   "language": "python",
   "name": "python3"
  },
  "language_info": {
   "codemirror_mode": {
    "name": "ipython",
    "version": 3
   },
   "file_extension": ".py",
   "mimetype": "text/x-python",
   "name": "python",
   "nbconvert_exporter": "python",
   "pygments_lexer": "ipython3",
   "version": "3.8.3"
  }
 },
 "nbformat": 4,
 "nbformat_minor": 2
}
