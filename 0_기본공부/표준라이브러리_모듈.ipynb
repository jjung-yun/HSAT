{
 "cells": [
  {
   "cell_type": "markdown",
   "metadata": {},
   "source": [
    "### itertools \n",
    "- 반복데이터 처리, 완전 탐색 등 코테에서 유용함\n",
    "- combinations (조합), Permutation (순열) 많이 사용함."
   ]
  },
  {
   "cell_type": "code",
   "execution_count": null,
   "metadata": {},
   "outputs": [],
   "source": [
    "from itertools import combinations as cb #combinations를 cb로 줄여쓸 수 있음.\n",
    "from itertools import permutations\n",
    "\n",
    "arr=['a','b','c']\n",
    "for i in cb(arr,2): #프린트 방법1\n",
    "\tprint(i)\n",
    "\n",
    "print(list(permutations(arr,2))) #프린트 방법2\n",
    "\n",
    "#순열 입력받은거 중에서 2개 바로 출력하는 구문\n",
    "for i in permutations(list(map(int,input().split())),2): \n",
    "\tprint(i)\n",
    "\n",
    "#수열만들기 \n",
    "from itertools import combinations as cb\n",
    "n,r=map(int,input().split())\n",
    "lst=list(range(1,n+1)) # 1~n 까지의 리스트\n",
    "\n",
    "for i in cb(lst,r): #리스트 중 r개 뽑기\n",
    "    for j in i: #combination 출력 시 튜플을 기본으로 바꿔주는 법\n",
    "        print(j,end=' ')\n",
    "    print()"
   ]
  },
  {
   "cell_type": "code",
   "execution_count": 1,
   "metadata": {},
   "outputs": [
    {
     "name": "stdout",
     "output_type": "stream",
     "text": [
      "3\n",
      "1\n",
      "{'red': 2, 'blue': 3, 'green': 1}\n"
     ]
    }
   ],
   "source": [
    "# counter : iterable에서 각 객체가 몇 번 나왔는지 dictionary로 반환\n",
    "from collections import Counter\n",
    "\n",
    "counter = Counter(['red','blue','red','green','blue','blue'])\n",
    "print(counter['blue'])\n",
    "print(counter['green'])\n",
    "print(dict(counter)) # dictionary로 반환"
   ]
  },
  {
   "cell_type": "markdown",
   "metadata": {},
   "source": [
    "### heapq \n",
    "- 힙(heap) 자료구조를 제공함. 우선순위 큐를 구현하기 위해 사용"
   ]
  },
  {
   "cell_type": "markdown",
   "metadata": {},
   "source": [
    "### bisect\n",
    "- 이진 탐색 기능을 제공"
   ]
  },
  {
   "cell_type": "markdown",
   "metadata": {},
   "source": [
    "### collections\n",
    "- 덱(deque), 카운터(counter) 등의 자료구조 제공"
   ]
  },
  {
   "cell_type": "markdown",
   "metadata": {},
   "source": [
    "### math\n",
    "- 팩토리얼, 제곱근, 최대공약수(GCD), 최대공배수(LCM), 삼각함수 및 파이(pi)"
   ]
  },
  {
   "cell_type": "code",
   "execution_count": 2,
   "metadata": {},
   "outputs": [
    {
     "name": "stdout",
     "output_type": "stream",
     "text": [
      "7\n",
      "42\n"
     ]
    }
   ],
   "source": [
    "import math\n",
    "a,b=21,14\n",
    "\n",
    "print(math.gcd(a,b))\n",
    "print(math.lcm(a,b))"
   ]
  }
 ],
 "metadata": {
  "kernelspec": {
   "display_name": "Python 3",
   "language": "python",
   "name": "python3"
  },
  "language_info": {
   "codemirror_mode": {
    "name": "ipython",
    "version": 3
   },
   "file_extension": ".py",
   "mimetype": "text/x-python",
   "name": "python",
   "nbconvert_exporter": "python",
   "pygments_lexer": "ipython3",
   "version": "3.11.8"
  }
 },
 "nbformat": 4,
 "nbformat_minor": 2
}
