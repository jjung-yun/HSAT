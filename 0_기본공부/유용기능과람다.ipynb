{
 "cells": [
  {
   "cell_type": "markdown",
   "metadata": {},
   "source": [
    "### 람다함수 (lambda)\n",
    "- 파이썬에서 람다 함수는 간단한 기능을 가진 일회용 함수를 생성할 때 주로 사용\n",
    "- lambda 매개변수: 반환값 순서로 쓰면 됨."
   ]
  },
  {
   "cell_type": "code",
   "execution_count": 4,
   "metadata": {},
   "outputs": [
    {
     "name": "stdout",
     "output_type": "stream",
     "text": [
      "10\n",
      "10\n"
     ]
    }
   ],
   "source": [
    "# 람다함수 기본구조\n",
    "def add(a,b):\n",
    "    return a+b\n",
    "\n",
    "print(add(3,7))\n",
    "\n",
    "print((lambda a,b:a+b)(3,7))"
   ]
  },
  {
   "cell_type": "code",
   "execution_count": 1,
   "metadata": {},
   "outputs": [
    {
     "name": "stdout",
     "output_type": "stream",
     "text": [
      "[(4, 'four'), (1, 'one'), (3, 'three'), (2, 'two')]\n"
     ]
    }
   ],
   "source": [
    "# 1. 리스트 정렬\n",
    "pairs = [(1, 'one'), (2, 'two'), (3, 'three'), (4, 'four')]\n",
    "pairs.sort(key=lambda pair: pair[1]) #파라미터로 받은 리스트의 2번째 값으로 정렬\n",
    "print(pairs)  \n",
    "\n",
    "# Output: [(4, 'four'), (1, 'one'), (3, 'three'), (2, 'two')]"
   ]
  },
  {
   "cell_type": "code",
   "execution_count": null,
   "metadata": {},
   "outputs": [],
   "source": [
    "# 2. map 함수 : iterable내의 모든 값에 그 함수를 적용함.\n",
    "numbers = [1, 2, 3, 4, 5]\n",
    "squares = list(map(lambda x: x ** 2, numbers))\n",
    "print(squares)  # Output: [1, 4, 9, 16, 25]\n",
    "\n",
    "# 2개의 리스트를 받아 적용할 수 잇음.\n",
    "list1=[1,2,3,4,5]\n",
    "list2=[6,7,8,9,10]\n",
    "result=map(lambda a,b:a+b, list1, list2)\n",
    "print(list(result))"
   ]
  },
  {
   "cell_type": "code",
   "execution_count": null,
   "metadata": {},
   "outputs": [],
   "source": [
    "# 3. filter 함수\n",
    "numbers = [1, 2, 3, 4, 5]\n",
    "even_numbers = list(filter(lambda x: x % 2 == 0, numbers))\n",
    "print(even_numbers)  # Output: [2, 4]"
   ]
  },
  {
   "cell_type": "markdown",
   "metadata": {},
   "source": [
    "### global 변수 사용법"
   ]
  },
  {
   "cell_type": "code",
   "execution_count": 1,
   "metadata": {},
   "outputs": [
    {
     "name": "stdout",
     "output_type": "stream",
     "text": [
      "10\n"
     ]
    }
   ],
   "source": [
    "a=0\n",
    "\n",
    "def func():\n",
    "    global a\n",
    "    a+=1\n",
    "\n",
    "for i in range(10):\n",
    "    func()\n",
    "\n",
    "print(a) \n",
    "#원래 func의 a는 지역변수라 전체 a 변수에 영향을 못주지만 global a 선언해 영향줌"
   ]
  },
  {
   "cell_type": "code",
   "execution_count": 2,
   "metadata": {},
   "outputs": [
    {
     "name": "stdout",
     "output_type": "stream",
     "text": [
      "[3, 4, 5, 6]\n",
      "[1, 2, 3, 4, 5]\n"
     ]
    }
   ],
   "source": [
    "# 똑같은 이름의 변수가 2개 있고 global이 없다면 함수는 지역변수를 메인인 메인변수를 먼저 참조\n",
    "array = [1,2,3,4,5]\n",
    "\n",
    "def func():\n",
    "    #global array\n",
    "    array = [3,4,5]\n",
    "    array.append(6)\n",
    "    print(array)\n",
    "\n",
    "func()\n",
    "print(array)"
   ]
  },
  {
   "cell_type": "markdown",
   "metadata": {},
   "source": [
    "### packing, unpacking \n",
    "원래 함수가 여러 유형으로 값을 반환할 때 구조체나 포인터를 사용하지만 파이썬은 가능함.\n",
    "\n",
    "- 여러개의 변수가 한 번에 반환 되는 것을 packing 이라고 함.\n",
    "- 호출된 함수에 의해 각 변수에 값을 할당하는 것을 unpacking이라고 함."
   ]
  },
  {
   "cell_type": "code",
   "execution_count": 3,
   "metadata": {},
   "outputs": [
    {
     "name": "stdout",
     "output_type": "stream",
     "text": [
      "10 4 21 2.3333333333333335\n"
     ]
    }
   ],
   "source": [
    "def operator(a,b):\n",
    "    add_var=a+b\n",
    "    subtract_var=a-b\n",
    "    multiply_var=a*b\n",
    "    divide_var=a/b\n",
    "    return add_var, subtract_var, multiply_var, divide_var # pakcing\n",
    "\n",
    "a,b,c,d=operator(7,3) # unpacking\n",
    "\n",
    "print(a,b,c,d)"
   ]
  }
 ],
 "metadata": {
  "kernelspec": {
   "display_name": "Python 3",
   "language": "python",
   "name": "python3"
  },
  "language_info": {
   "codemirror_mode": {
    "name": "ipython",
    "version": 3
   },
   "file_extension": ".py",
   "mimetype": "text/x-python",
   "name": "python",
   "nbconvert_exporter": "python",
   "pygments_lexer": "ipython3",
   "version": "3.11.8"
  }
 },
 "nbformat": 4,
 "nbformat_minor": 2
}
