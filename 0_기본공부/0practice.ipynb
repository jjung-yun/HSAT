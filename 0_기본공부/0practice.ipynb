{
 "cells": [
  {
   "cell_type": "code",
   "execution_count": 1,
   "metadata": {},
   "outputs": [
    {
     "data": {
      "text/plain": [
       "['__class__',\n",
       " '__contains__',\n",
       " '__delattr__',\n",
       " '__delitem__',\n",
       " '__dir__',\n",
       " '__doc__',\n",
       " '__eq__',\n",
       " '__format__',\n",
       " '__ge__',\n",
       " '__getattribute__',\n",
       " '__getitem__',\n",
       " '__gt__',\n",
       " '__hash__',\n",
       " '__init__',\n",
       " '__init_subclass__',\n",
       " '__iter__',\n",
       " '__le__',\n",
       " '__len__',\n",
       " '__lt__',\n",
       " '__ne__',\n",
       " '__new__',\n",
       " '__reduce__',\n",
       " '__reduce_ex__',\n",
       " '__repr__',\n",
       " '__reversed__',\n",
       " '__setattr__',\n",
       " '__setitem__',\n",
       " '__sizeof__',\n",
       " '__str__',\n",
       " '__subclasshook__',\n",
       " 'clear',\n",
       " 'copy',\n",
       " 'fromkeys',\n",
       " 'get',\n",
       " 'items',\n",
       " 'keys',\n",
       " 'pop',\n",
       " 'popitem',\n",
       " 'setdefault',\n",
       " 'update',\n",
       " 'values']"
      ]
     },
     "execution_count": 1,
     "metadata": {},
     "output_type": "execute_result"
    }
   ],
   "source": [
    "dial = { 'A':3, 'B':3, 'C':3, \n",
    "         'D':4, 'E':4, 'F':4, \n",
    "         'G':5, 'H':5, 'I':5, \n",
    "         'J':6, 'K':6, 'L':6, \n",
    "         'M':7, 'N':7, 'O':7, \n",
    "         'P':8, 'Q':8, 'R':8, 'S':8,\n",
    "         'T':9, 'U':9, 'V':9, \n",
    "         'W':10, 'X':10, 'Y':10, 'Z':10\n",
    "        }\n"
   ]
  },
  {
   "cell_type": "markdown",
   "metadata": {},
   "source": [
    "### 1. 리스트 (List)  \n",
    "리스트는 여러 값을 순서대로 저장하는 자료구조입니다. 중복된 값이 있을 수 있으며, 값의 추가, 제거, 수정이 가능합니다.  \n",
    "```python\n",
    "fruits = [\"apple\", \"banana\", \"cherry\"]\n",
    "fruits.append(\"orange\")\n",
    "fruits.remove(\"apple\")\n",
    "fruits[1] = \"kiwi\"\n",
    "```\n",
    "\n",
    "### 2. 튜플 (Tuple)\n",
    "튜플은 여러 값을 순서대로 저장하는 자료구조지만, 리스트와 달리 한 번 생성한 튜플은 수정할 수 없습니다.\n",
    "\n",
    "```python\n",
    "coordinate = (3, 4)\n",
    "```\n",
    "\n",
    "하나\n",
    "\n",
    "둘\n",
    "셋\n",
    "\n",
    "\n",
    "\n",
    "넷 (enter 2번 이상쓰면 1줄 띄움)"
   ]
  }
 ],
 "metadata": {
  "kernelspec": {
   "display_name": "Python 3",
   "language": "python",
   "name": "python3"
  },
  "language_info": {
   "codemirror_mode": {
    "name": "ipython",
    "version": 3
   },
   "file_extension": ".py",
   "mimetype": "text/x-python",
   "name": "python",
   "nbconvert_exporter": "python",
   "pygments_lexer": "ipython3",
   "version": "3.8.3"
  }
 },
 "nbformat": 4,
 "nbformat_minor": 2
}
