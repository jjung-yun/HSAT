{
 "cells": [
  {
   "cell_type": "markdown",
   "metadata": {},
   "source": [
    "### 1차원 리스트 생성, 메서드, 사용"
   ]
  },
  {
   "cell_type": "code",
   "execution_count": null,
   "metadata": {},
   "outputs": [],
   "source": [
    "print(dir([1,2]))\n",
    "\n",
    "# 리스트 생성 및 기본\n",
    "list1 = [1, 2, 3]\n",
    "list2 = [4, 5, 6]\n",
    "\n",
    "print(list1 + list2) # 출력: [1, 2, 3, 4, 5, 6]\n",
    "print(list1 * 3)     # 출력: [1, 2 ,3 ,1 ,2 ,3 ,1 ,2 ,3]\n",
    "print(2 in list1)    # 출력: True"
   ]
  },
  {
   "cell_type": "code",
   "execution_count": null,
   "metadata": {},
   "outputs": [],
   "source": [
    "# 리스트 메서드\n",
    "list1 = [1, 2, 3]\n",
    "list2 = [4, 5, 6]\n",
    "\n",
    "# 리스트 역순출력\n",
    "for i in reversed([1,2,3]):\n",
    "    print(i)\n",
    "\n",
    "# 특정 값 개수 세기\n",
    "list1.count(2)\n",
    "\n",
    "# 특정 값 제거 하기\n",
    "list1.remove(3)  # [1, 2]\n",
    "removed_value = list1.pop # 맨 뒤 값 삭제 후 반환\n",
    "print(removed_value)      # 2\n",
    "removed_value = list1.pop(0) #특정 인덱스 삭제 후 반환\n",
    "\n",
    "#리스트 특정부분만 뒤집기\n",
    "lst = [1, 2, 3, 4, 5, 6, 7, 8, 9]\n",
    "start, end = 2, 6  # 뒤집을 부분의 시작 인덱스와 끝 인덱스\n",
    "lst[start:end] = lst[start:end][::-1]"
   ]
  },
  {
   "cell_type": "code",
   "execution_count": null,
   "metadata": {},
   "outputs": [],
   "source": [
    "# 리스트 unpacking : for안쓰고 바로바로 출력가능함.\n",
    "list2 = [4, 5, 6]\n",
    "print(*list2) # 4 5 6 이 알아서 구분돼서 나옴.\n",
    "print(*list2, sep='\\n') # 구분기호 가능 "
   ]
  },
  {
   "cell_type": "markdown",
   "metadata": {},
   "source": [
    "### 리스트 컴프리헨젼 및 2차원 리스트"
   ]
  },
  {
   "cell_type": "code",
   "execution_count": 2,
   "metadata": {},
   "outputs": [
    {
     "name": "stdout",
     "output_type": "stream",
     "text": [
      "1 1 1 1 1 1 1 1 1 1\n",
      "1 3 5 7 9 11 13 15 17 19\n",
      "0 1 4\n",
      "0 1 4\n",
      "0 1 4\n",
      "0 0 0 0 0 0\n",
      "0 0 0 0 0 0\n",
      "0 0 0 0 0 0\n"
     ]
    }
   ],
   "source": [
    "# 1차원 리스트 생성 \n",
    "_list = [i for i in range(10)] # 0 1 2 3 4 5 6 7 8 9\n",
    "_list = [1 for _ in range(10)] # 1 1 1 1 1 1 1 1 1 1\n",
    "print(*_list)\n",
    "\n",
    "# 조건문 포함\n",
    "_list = [i for i in range(20) if i%2==1]\n",
    "print(*_list)\n",
    "_list = [i*i for i in range(20)]\n",
    "\n",
    "# 2차원 배열\n",
    "square = [[x ** 2 for x in range(3)] for _ in range(3)] # [[1, 4, 9], [1, 4, 9], [1, 4, 9]]\n",
    "for lst in square:\n",
    "    print(*lst)       #2차원 리스트 unpacking으로 바로 출력하는 법\n",
    "\n",
    "arr=[[0]*6 for _ in range(3)] # 행3개 열 6개\n",
    "for lst in arr:\n",
    "    print(*lst)\n",
    "\n",
    "# 2차원 리스트에서 가로로 받는 줄은 Y, 세로로 받는 줄 (2차원이 되게 해주는 줄)이 X임.\n",
    "# X=9, Y=10인 행렬을 input받고 싶다면\n",
    "for _ in range(x):\n",
    "    chess.append(input())\n",
    "#예시: Y는 str으로 바로 받고, X는 9줄 (2차원, 세로는 9개임.)\n",
    "9 23\n",
    "BBBBBBBBBBBBBBBBBBBBBBB\n",
    "BBBBBBBBBBBBBBBBBBBBBBB\n",
    "BBBBBBBBBBBBBBBBBBBBBBB\n",
    "BBBBBBBBBBBBBBBBBBBBBBB\n",
    "BBBBBBBBBBBBBBBBBBBBBBB\n",
    "BBBBBBBBBBBBBBBBBBBBBBB\n",
    "BBBBBBBBBBBBBBBBBBBBBBB\n",
    "BBBBBBBBBBBBBBBBBBBBBBB\n",
    "BBBBBBBBBBBBBBBBBBBBBBW"
   ]
  },
  {
   "cell_type": "markdown",
   "metadata": {},
   "source": []
  },
  {
   "cell_type": "markdown",
   "metadata": {},
   "source": [
    "### 튜플\n",
    ": 데이터 변경 불가능하지만 리스트보다 메모리 작음."
   ]
  },
  {
   "cell_type": "code",
   "execution_count": null,
   "metadata": {},
   "outputs": [],
   "source": [
    "#튜플\n",
    "print(dir((1,2)))\n",
    "t1 = (1, 2, 3)\n",
    "t2 = (4, 5, 6)\n",
    "\n",
    "print(t1 + t2)    # 출력: (1, 2, 3, 4, 5, 6)\n",
    "print(t1 * 3)     # 출력: (1, 2 ,3 ,1 ,2 ,3 ,1 ,2 ,3)\n",
    "print(2 in t1)    # 출력: True\n",
    "print(t1[1])      # 출력: 2"
   ]
  },
  {
   "cell_type": "code",
   "execution_count": null,
   "metadata": {},
   "outputs": [],
   "source": [
    "t1 = (1, 2, 3)\n",
    "t2 = (4, 5, 6)"
   ]
  },
  {
   "cell_type": "code",
   "execution_count": null,
   "metadata": {},
   "outputs": [],
   "source": [
    "print(dir({1}))\n",
    "\n",
    "a={1,2,3}\n",
    "b={2,3,4}\n",
    "\n",
    "print(\"a|b=합집합\",a|b, a.union(b))\n",
    "print(\"a&b=교집합\",a&b, a.intersection(b))\n",
    "print(\"a-b=ck집합\",a-b, a.difference(b))\n",
    "print(\"a^b=대칭차집합\",a^b, a.symmetric_difference(b))\n",
    "\n",
    "a.add(8) # 요소 추가"
   ]
  },
  {
   "cell_type": "code",
   "execution_count": null,
   "metadata": {},
   "outputs": [],
   "source": [
    "a={1,2,3}\n",
    "b={2,3,4}"
   ]
  },
  {
   "cell_type": "markdown",
   "metadata": {},
   "source": [
    "### 딕셔너리 {\"key\": \"value\"}\n",
    "- 데이터 조회가 상수시간으로 엄청 빠름\n",
    "- 키 데이터 뽑기 : keys()함수\n",
    "- 값 데이터 뽑기 : values()함수"
   ]
  },
  {
   "cell_type": "code",
   "execution_count": null,
   "metadata": {},
   "outputs": [],
   "source": [
    "# 딕셔너리, Dictionary 생성법\n",
    "dict = {\"a\": \"apple\", \"b\": \"banana\", \"c\": \"cherry\"}\n",
    "print(\"a\" in dict) # 출력: True (딕셔너리에서 'in'은 key를 찾습니다.)\n",
    "\n",
    "data=dict() # 초기화 생성방법\n",
    "data['사과']='Apple' # 값 생성법. 키=사과, 값=apple\n",
    "\n",
    "ages = {\"John\": 30, \"Lisa\": 25, \"Sarah\": 35}\n",
    "print(ages[\"Lisa\"])  # 키를 넣으면 그에 해당하는 값 25 출력"
   ]
  },
  {
   "cell_type": "code",
   "execution_count": null,
   "metadata": {},
   "outputs": [],
   "source": [
    "# 딕셔너리 메서드들\n",
    "dict1 = {'name': 'Jiho', 'age': 30, 'job': 'AI Assistant'}\n",
    "\n",
    "# clear() 메서드 : 딕셔너리의 모든 요소를 삭제합니다.\n",
    "dict2 = dict1.copy()\n",
    "dict2.clear()\n",
    "print(dict2)    # 출력: {}\n",
    "\n",
    "# copy() 메서드 : 딕셔너리의 얕은 복사본을 반환합니다.\n",
    "dict3 = dict1.copy()\n",
    "print(dict3)    # 출력: {'name': 'Jiho', 'age': 30, 'job': 'AI Assistant'}\n",
    "\n",
    "# fromkeys() 메서드 : fromkeys(seq[, v]): 시퀀스 seq의 모든 요소를 키로 하고 값이 v인 딕셔너리를 생성합니다.\n",
    "dict4 = dict.fromkeys(['key1', 'key2', 'key3'], 'default')\n",
    "print(dict4)    # 출력: {'key1': 'default', 'key2': 'default', 'key3': 'default'}\n",
    "\n",
    "################################# get() 메서드 : get(key[, default]): key에 해당하는 값을 반환합니다. key가 딕셔너리에 없는 경우 default를 반환합니다.\n",
    "print(dict1.get('name'))    # 출력: Jiho\n",
    "print(dict1.get('address', 'Not Available'))    # 출력: Not Available\n",
    "\n",
    "# items() 메서드 : items(): 딕셔너리의 모든 키-값 쌍을 반환합니다.\n",
    "print(dict1.items())    # 출력: dict_items([('name', 'Jiho'), ('age', 30), ('job', 'AI Assistant')])\n",
    "\n",
    "# keys() 메서드 :  딕셔너리의 모든 키를 반환합니다.\n",
    "print(dict1.keys())    # 출력: dict_keys(['name', 'age', 'job'])\n",
    "\n",
    "# pop() 메서드 : pop(key[, default]): key에 해당하는 값을 제거하고 그 값을 반환합니다. key가 딕셔너리에 없는 경우 default를 반환합니다.\n",
    "print(dict1.pop('age'))    # 출력: 30\n",
    "print(dict1)    # 출력: {'name': 'Jiho', 'job': 'AI Assistant'}\n",
    "\n",
    "# popitem() 메서드 : popitem(): 딕셔너리의 마지막 키-값 쌍을 제거하고 그 쌍을 반환합니다.\n",
    "print(dict1.popitem())    # 출력: ('job', 'AI Assistant')\n",
    "print(dict1)    # 출력: {'name': 'Jiho'}\n",
    "\n",
    "# setdefault() 메서드 : setdefault(key[, default]): key에 해당하는 값을 반환합니다. key가 딕셔너리에 없는 경우 key와 default를 딕셔너리에 추가합니다.\n",
    "dict1.setdefault('age', 30)\n",
    "print(dict1)    # 출력: {'name': 'Jiho', 'age': 30}\n",
    "\n",
    "# update() 메서드 : pdate([other]): 딕셔너리를 다른 딕셔너리로 업데이트합니다.\n",
    "dict1.update({'job': 'AI Assistant'})\n",
    "print(dict1)    # 출력: {'name': 'Jiho', 'age': 30, 'job': 'AI Assistant'}\n",
    "\n",
    "# values() 메서드 : 딕셔너리의 모든 값을 반환합니다.\n",
    "print(dict1.values())    # 출력: dict_values(['Jiho', 30, 'AI Assistant'])\n",
    "\n"
   ]
  },
  {
   "cell_type": "code",
   "execution_count": 6,
   "metadata": {},
   "outputs": [
    {
     "name": "stdout",
     "output_type": "stream",
     "text": [
      "apple\n",
      "jungyun\n",
      "kjy\n"
     ]
    }
   ],
   "source": [
    "dict = {\"a\": \"apple\", \"b\": \"banana\", \"c\": \"cherry\"}\n",
    "print(dict['a'])\n",
    "dict['a']='jungyun'\n",
    "print(dict['a'])\n",
    "\n",
    "dict['d']='kjy'\n",
    "print(dict['d'])"
   ]
  },
  {
   "cell_type": "markdown",
   "metadata": {},
   "source": [
    "### 집합, Set\n",
    "- 중복을 허용하지 않고 순서가 없음. 중복 없앨때 유용함."
   ]
  }
 ],
 "metadata": {
  "kernelspec": {
   "display_name": "Python 3",
   "language": "python",
   "name": "python3"
  },
  "language_info": {
   "codemirror_mode": {
    "name": "ipython",
    "version": 3
   },
   "file_extension": ".py",
   "mimetype": "text/x-python",
   "name": "python",
   "nbconvert_exporter": "python",
   "pygments_lexer": "ipython3",
   "version": "3.10.6"
  }
 },
 "nbformat": 4,
 "nbformat_minor": 2
}
